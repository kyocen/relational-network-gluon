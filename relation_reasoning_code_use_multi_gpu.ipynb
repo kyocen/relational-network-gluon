{
 "cells": [
  {
   "cell_type": "markdown",
   "metadata": {},
   "source": [
    "# Relation Networks for VQA"
   ]
  },
  {
   "cell_type": "code",
   "execution_count": 1,
   "metadata": {
    "ExecuteTime": {
     "end_time": "2018-07-16T04:07:11.225645Z",
     "start_time": "2018-07-16T04:07:08.641561Z"
    }
   },
   "outputs": [],
   "source": [
    "import mxnet as mx\n",
    "from mxnet import gluon, autograd, nd\n",
    "from mxnet.gluon import nn,utils\n",
    "from mxnet.gluon.data import ArrayDataset, DataLoader\n",
    "import numpy as np\n",
    "import os, sys, time\n",
    "from tqdm import tqdm\n",
    "import pickle\n",
    "import random\n",
    "from tqdm import tnrange, tqdm_notebook\n",
    "import matplotlib as mpl\n",
    "import matplotlib.pyplot as plt\n",
    "import seaborn as sns\n",
    "import collections\n",
    "import pandas as pd\n",
    "%matplotlib inline"
   ]
  },
  {
   "cell_type": "code",
   "execution_count": 2,
   "metadata": {},
   "outputs": [
    {
     "data": {
      "text/plain": [
       "'1.3.0'"
      ]
     },
     "execution_count": 2,
     "metadata": {},
     "output_type": "execute_result"
    }
   ],
   "source": [
    "mx.__version__"
   ]
  },
  {
   "cell_type": "markdown",
   "metadata": {},
   "source": [
    "## Data Preparation"
   ]
  },
  {
   "cell_type": "code",
   "execution_count": 3,
   "metadata": {},
   "outputs": [
    {
     "name": "stdout",
     "output_type": "stream",
     "text": [
      "directory ./data already exists\n",
      "building test datasets...\n",
      "building train datasets...\n",
      "saving datasets...\n",
      "datasets saved at ./data/sort-of-clevr.pickle\n"
     ]
    }
   ],
   "source": [
    "##generate input data\n",
    "!python sort_of_clevr_gen.py"
   ]
  },
  {
   "cell_type": "markdown",
   "metadata": {},
   "source": [
    "## Model Definition"
   ]
  },
  {
   "cell_type": "code",
   "execution_count": 4,
   "metadata": {
    "ExecuteTime": {
     "end_time": "2018-07-16T04:07:14.157815Z",
     "start_time": "2018-07-16T04:07:14.155331Z"
    }
   },
   "outputs": [],
   "source": [
    "GPU_COUNT = 2 # Set gpu count\n",
    "def setting_ctx(GPU_COUNT):\n",
    "    if GPU_COUNT > 0 :\n",
    "        ctx = [mx.gpu(i) for i in range(GPU_COUNT)]\n",
    "    else :\n",
    "        ctx = [mx.cpu()]\n",
    "    return ctx\n",
    "        \n",
    "ctx = setting_ctx(GPU_COUNT)"
   ]
  },
  {
   "cell_type": "code",
   "execution_count": 5,
   "metadata": {
    "ExecuteTime": {
     "end_time": "2018-07-16T04:07:14.825396Z",
     "start_time": "2018-07-16T04:07:14.795850Z"
    }
   },
   "outputs": [],
   "source": [
    "class ConvInputModel(nn.HybridSequential):\n",
    "    def __init__(self,**kwargs):\n",
    "        super(ConvInputModel,self).__init__(**kwargs)                \n",
    "        with self.name_scope():\n",
    "            self.add(\n",
    "                nn.Conv2D(channels=24, kernel_size=3, strides=2, padding=1, activation='relu'),\n",
    "                nn.BatchNorm(),\n",
    "                nn.Conv2D(channels=24, kernel_size=3, strides=2, padding=1, activation='relu'),\n",
    "                nn.BatchNorm(),\n",
    "                nn.Conv2D(channels=24, kernel_size=3, strides=2, padding=1, activation='relu'),\n",
    "                nn.BatchNorm(),\n",
    "                nn.Conv2D(channels=24, kernel_size=3, strides=2, padding=1, activation='relu'),\n",
    "                nn.BatchNorm()\n",
    "            )"
   ]
  },
  {
   "cell_type": "code",
   "execution_count": 6,
   "metadata": {
    "ExecuteTime": {
     "end_time": "2018-07-16T04:07:15.633401Z",
     "start_time": "2018-07-16T04:07:15.623210Z"
    }
   },
   "outputs": [],
   "source": [
    "class FCOutputModel(nn.HybridSequential):\n",
    "    def __init__(self,**kwargs):\n",
    "        super(FCOutputModel,self).__init__(**kwargs)\n",
    "        \n",
    "        with self.name_scope():\n",
    "            self.add(\n",
    "                nn.Dense(256, activation='relu'),\n",
    "                nn.Dropout(0.5),\n",
    "                nn.Dense(10)\n",
    "            )"
   ]
  },
  {
   "cell_type": "code",
   "execution_count": 30,
   "metadata": {
    "ExecuteTime": {
     "end_time": "2018-07-16T04:07:16.413751Z",
     "start_time": "2018-07-16T04:07:16.256041Z"
    }
   },
   "outputs": [],
   "source": [
    "class RN_Model(nn.HybridBlock):\n",
    "    def __init__(self, **kwargs):\n",
    "        super(RN_Model, self).__init__(**kwargs)\n",
    "    \n",
    "        with self.name_scope():\n",
    "            self.conv = ConvInputModel()\n",
    "            \n",
    "            self.g_fc1 = nn.Dense(256, activation='relu', flatten=False)\n",
    "            self.g_fc2 = nn.Dense(256, activation='relu', flatten=False)\n",
    "            self.g_fc3 = nn.Dense(256, activation='relu', flatten=False)\n",
    "            self.g_fc4 = nn.Dense(256, activation='relu', flatten=False)\n",
    "            \n",
    "            self.f_fc1 = nn.Dense(256, activation='relu')\n",
    "            self.fcout = FCOutputModel()\n",
    "            \n",
    "\n",
    "    def hybrid_forward(self, F, x, qst, coord_tensor):\n",
    "        \n",
    "        #input size = (64 * 3 * 75 * 75)\n",
    "        x = self.conv(x) ## x = (64 * 24 * 5 * 5)\n",
    "                \n",
    "        \n",
    "        x_flat = x.reshape(shape=(0, 0, -3))\n",
    "        x_flat = F.swapaxes(x_flat,1,2) ## (64 * 25 * 24)\n",
    "        \n",
    "        ##add coordinates\n",
    "        x_flat = F.concat(x_flat, coord_tensor,dim=2)\n",
    "        \n",
    "        ##add question\n",
    "        qst = qst.expand_dims(1)\n",
    "        qst = F.repeat(qst,repeats=25,axis=1)\n",
    "        qst = qst.expand_dims(2)\n",
    "        \n",
    "        # cast all pairs against each other\n",
    "        x_i = x_flat.expand_dims(1)\n",
    "        x_i = F.repeat(x_i,repeats=25,axis=1)\n",
    "        \n",
    "        x_j = x_flat.expand_dims(2)\n",
    "        x_j = F.concat(x_j,qst,dim=3)\n",
    "        x_j = F.repeat(x_j,repeats=25,axis=2)\n",
    "        \n",
    "        #concatenate all\n",
    "        x_full = F.concat(x_i,x_j,dim=3)\n",
    "        \n",
    "        x_ = self.g_fc1(x_full.reshape((0, -1, 63)))\n",
    "        x_ = self.g_fc2(x_)\n",
    "        x_ = self.g_fc3(x_)\n",
    "        x_ = self.g_fc4(x_)\n",
    "        \n",
    "        x_g = x_.sum(1)\n",
    "\n",
    "        \n",
    "        ##### f part #######\n",
    "        x_f = self.f_fc1(x_g)\n",
    "\n",
    "\n",
    "        \n",
    "        return self.fcout(x_f)\n",
    "            "
   ]
  },
  {
   "cell_type": "markdown",
   "metadata": {},
   "source": [
    "## Data Loading"
   ]
  },
  {
   "cell_type": "code",
   "execution_count": 9,
   "metadata": {
    "ExecuteTime": {
     "end_time": "2018-07-16T04:07:17.078333Z",
     "start_time": "2018-07-16T04:07:17.052989Z"
    }
   },
   "outputs": [],
   "source": [
    "def load_data():\n",
    "    print('loading data...')\n",
    "    dirs = os.getcwd()\n",
    "    filename = os.path.join(dirs,'data','sort-of-clevr.pickle')\n",
    "    with open(filename, 'rb') as f:\n",
    "        train_datasets, test_datasets = pickle.load(f)\n",
    "    rel_train = []\n",
    "    rel_test = []\n",
    "    norel_train = []\n",
    "    norel_test = []\n",
    "    print('processing data...')\n",
    "\n",
    "    for img, relations, norelations in train_datasets:\n",
    "        img = np.swapaxes(img,0,2)\n",
    "        for qst,ans in zip(relations[0], relations[1]):\n",
    "            rel_train.append((img,qst,ans))\n",
    "        for qst,ans in zip(norelations[0], norelations[1]):\n",
    "            norel_train.append((img,qst,ans))\n",
    "\n",
    "    for img, relations, norelations in test_datasets:\n",
    "        img = np.swapaxes(img,0,2)\n",
    "        for qst,ans in zip(relations[0], relations[1]):\n",
    "            rel_test.append((img,qst,ans))\n",
    "        for qst,ans in zip(norelations[0], norelations[1]):\n",
    "            norel_test.append((img,qst,ans))\n",
    "    \n",
    "    return (rel_train, rel_test, norel_train, norel_test)"
   ]
  },
  {
   "cell_type": "code",
   "execution_count": 10,
   "metadata": {
    "ExecuteTime": {
     "end_time": "2018-07-16T04:07:19.062021Z",
     "start_time": "2018-07-16T04:07:17.613339Z"
    }
   },
   "outputs": [
    {
     "name": "stdout",
     "output_type": "stream",
     "text": [
      "loading data...\n",
      "processing data...\n"
     ]
    }
   ],
   "source": [
    "##load input data\n",
    "rel_train, rel_test, norel_train, norel_test = load_data()"
   ]
  },
  {
   "cell_type": "code",
   "execution_count": null,
   "metadata": {
    "ExecuteTime": {
     "end_time": "2018-07-16T04:07:20.115834Z",
     "start_time": "2018-07-16T04:07:19.983675Z"
    }
   },
   "outputs": [],
   "source": []
  },
  {
   "cell_type": "code",
   "execution_count": 11,
   "metadata": {
    "ExecuteTime": {
     "end_time": "2018-07-16T04:07:20.568945Z",
     "start_time": "2018-07-16T04:07:20.565752Z"
    }
   },
   "outputs": [],
   "source": [
    "def display_image(data):\n",
    "    img = data[0]\n",
    "    img = np.swapaxes(img,0,2)\n",
    "    plt.imshow((img * 255.0).astype('uint8'))"
   ]
  },
  {
   "cell_type": "code",
   "execution_count": 12,
   "metadata": {
    "ExecuteTime": {
     "end_time": "2018-07-16T04:07:21.517133Z",
     "start_time": "2018-07-16T04:07:21.415086Z"
    }
   },
   "outputs": [
    {
     "data": {
      "image/png": "[encoded data removed]",
      "text/plain": [
       "<Figure size 432x288 with 1 Axes>"
      ]
     },
     "metadata": {},
     "output_type": "display_data"
    }
   ],
   "source": [
    "display_image(rel_train[20])"
   ]
  },
  {
   "cell_type": "markdown",
   "metadata": {},
   "source": [
    "## Model Training"
   ]
  },
  {
   "cell_type": "code",
   "execution_count": 13,
   "metadata": {
    "ExecuteTime": {
     "end_time": "2018-07-16T04:07:23.136481Z",
     "start_time": "2018-07-16T04:07:23.133921Z"
    }
   },
   "outputs": [],
   "source": [
    "##setting hyper-parameters\n",
    "args = dict()\n",
    "args['batch_size'] = 128\n",
    "args['epochs'] = 50"
   ]
  },
  {
   "cell_type": "markdown",
   "metadata": {},
   "source": [
    "### Network"
   ]
  },
  {
   "cell_type": "code",
   "execution_count": 31,
   "metadata": {
    "ExecuteTime": {
     "end_time": "2018-07-16T04:07:23.689994Z",
     "start_time": "2018-07-16T04:07:23.684723Z"
    }
   },
   "outputs": [],
   "source": [
    "model = RN_Model()\n",
    "#parameter initialozation\n",
    "model.collect_params().initialize(mx.init.Xavier(magnitude=2.3), ctx=ctx)"
   ]
  },
  {
   "cell_type": "code",
   "execution_count": 32,
   "metadata": {},
   "outputs": [
    {
     "data": {
      "image/svg+xml": [
       "<?xml version=\"1.0\" encoding=\"UTF-8\" standalone=\"no\"?>\n",
       "<!DOCTYPE svg PUBLIC \"-//W3C//DTD SVG 1.1//EN\"\n",
       " \"http://www.w3.org/Graphics/SVG/1.1/DTD/svg11.dtd\">\n",
       "<!-- Generated by graphviz version 2.38.0 (20140413.2041)\n",
       " -->\n",
       "<!-- Title: plot Pages: 1 -->\n",
       "<svg width=\"351pt\" height=\"3967pt\"\n",
       " viewBox=\"0.00 0.00 351.00 3967.00\" xmlns=\"http://www.w3.org/2000/svg\" xmlns:xlink=\"http://www.w3.org/1999/xlink\">\n",
       "<g id=\"graph0\" class=\"graph\" transform=\"scale(1 1) rotate(0) translate(4 3963)\">\n",
       "<title>plot</title>\n",
       "<polygon fill=\"white\" stroke=\"none\" points=\"-4,4 -4,-3963 347,-3963 347,4 -4,4\"/>\n",
       "<!-- data -->\n",
       "<g id=\"node1\" class=\"node\"><title>data</title>\n",
       "<ellipse fill=\"#8dd3c7\" stroke=\"black\" cx=\"47\" cy=\"-29\" rx=\"47\" ry=\"29\"/>\n",
       "<text text-anchor=\"middle\" x=\"47\" y=\"-25.3\" font-family=\"Times,serif\" font-size=\"14.00\">data</text>\n",
       "</g>\n",
       "<!-- rn_model2_convinputmodel0_conv0_fwd -->\n",
       "<g id=\"node2\" class=\"node\"><title>rn_model2_convinputmodel0_conv0_fwd</title>\n",
       "<polygon fill=\"#fb8072\" stroke=\"black\" points=\"94,-167 -7.10543e-15,-167 -7.10543e-15,-109 94,-109 94,-167\"/>\n",
       "<text text-anchor=\"middle\" x=\"47\" y=\"-141.8\" font-family=\"Times,serif\" font-size=\"14.00\">Convolution</text>\n",
       "<text text-anchor=\"middle\" x=\"47\" y=\"-126.8\" font-family=\"Times,serif\" font-size=\"14.00\">3x3/2x2, 24</text>\n",
       "</g>\n",
       "<!-- rn_model2_convinputmodel0_conv0_fwd&#45;&gt;data -->\n",
       "<g id=\"edge1\" class=\"edge\"><title>rn_model2_convinputmodel0_conv0_fwd&#45;&gt;data</title>\n",
       "<path fill=\"none\" stroke=\"black\" d=\"M47,-98.5824C47,-85.2841 47,-70.632 47,-58.2967\"/>\n",
       "<polygon fill=\"black\" stroke=\"black\" points=\"47,-108.887 42.5001,-98.887 47,-103.887 47.0001,-98.887 47.0001,-98.887 47.0001,-98.887 47,-103.887 51.5001,-98.8871 47,-108.887 47,-108.887\"/>\n",
       "<text text-anchor=\"middle\" x=\"71\" y=\"-79.8\" font-family=\"Times,serif\" font-size=\"14.00\">3x75x75</text>\n",
       "</g>\n",
       "<!-- rn_model2_convinputmodel0_conv0_relu_fwd -->\n",
       "<g id=\"node3\" class=\"node\"><title>rn_model2_convinputmodel0_conv0_relu_fwd</title>\n",
       "<polygon fill=\"#ffffb3\" stroke=\"black\" points=\"94,-276 -7.10543e-15,-276 -7.10543e-15,-218 94,-218 94,-276\"/>\n",
       "<text text-anchor=\"middle\" x=\"47\" y=\"-250.8\" font-family=\"Times,serif\" font-size=\"14.00\">Activation</text>\n",
       "<text text-anchor=\"middle\" x=\"47\" y=\"-235.8\" font-family=\"Times,serif\" font-size=\"14.00\">relu</text>\n",
       "</g>\n",
       "<!-- rn_model2_convinputmodel0_conv0_relu_fwd&#45;&gt;rn_model2_convinputmodel0_conv0_fwd -->\n",
       "<g id=\"edge2\" class=\"edge\"><title>rn_model2_convinputmodel0_conv0_relu_fwd&#45;&gt;rn_model2_convinputmodel0_conv0_fwd</title>\n",
       "<path fill=\"none\" stroke=\"black\" d=\"M47,-207.582C47,-194.284 47,-179.632 47,-167.297\"/>\n",
       "<polygon fill=\"black\" stroke=\"black\" points=\"47,-217.887 42.5001,-207.887 47,-212.887 47.0001,-207.887 47.0001,-207.887 47.0001,-207.887 47,-212.887 51.5001,-207.887 47,-217.887 47,-217.887\"/>\n",
       "<text text-anchor=\"middle\" x=\"74.5\" y=\"-188.8\" font-family=\"Times,serif\" font-size=\"14.00\">24x38x38</text>\n",
       "</g>\n",
       "<!-- rn_model2_convinputmodel0_batchnorm0_fwd -->\n",
       "<g id=\"node4\" class=\"node\"><title>rn_model2_convinputmodel0_batchnorm0_fwd</title>\n",
       "<polygon fill=\"#bebada\" stroke=\"black\" points=\"94,-385 -7.10543e-15,-385 -7.10543e-15,-327 94,-327 94,-385\"/>\n",
       "<text text-anchor=\"middle\" x=\"47\" y=\"-352.3\" font-family=\"Times,serif\" font-size=\"14.00\">rn_model2_convinputmodel0_batchnorm0_fwd</text>\n",
       "</g>\n",
       "<!-- rn_model2_convinputmodel0_batchnorm0_fwd&#45;&gt;rn_model2_convinputmodel0_conv0_relu_fwd -->\n",
       "<g id=\"edge3\" class=\"edge\"><title>rn_model2_convinputmodel0_batchnorm0_fwd&#45;&gt;rn_model2_convinputmodel0_conv0_relu_fwd</title>\n",
       "<path fill=\"none\" stroke=\"black\" d=\"M47,-316.582C47,-303.284 47,-288.632 47,-276.297\"/>\n",
       "<polygon fill=\"black\" stroke=\"black\" points=\"47,-326.887 42.5001,-316.887 47,-321.887 47.0001,-316.887 47.0001,-316.887 47.0001,-316.887 47,-321.887 51.5001,-316.887 47,-326.887 47,-326.887\"/>\n",
       "<text text-anchor=\"middle\" x=\"74.5\" y=\"-297.8\" font-family=\"Times,serif\" font-size=\"14.00\">24x38x38</text>\n",
       "</g>\n",
       "<!-- rn_model2_convinputmodel0_conv1_fwd -->\n",
       "<g id=\"node5\" class=\"node\"><title>rn_model2_convinputmodel0_conv1_fwd</title>\n",
       "<polygon fill=\"#fb8072\" stroke=\"black\" points=\"94,-494 -7.10543e-15,-494 -7.10543e-15,-436 94,-436 94,-494\"/>\n",
       "<text text-anchor=\"middle\" x=\"47\" y=\"-468.8\" font-family=\"Times,serif\" font-size=\"14.00\">Convolution</text>\n",
       "<text text-anchor=\"middle\" x=\"47\" y=\"-453.8\" font-family=\"Times,serif\" font-size=\"14.00\">3x3/2x2, 24</text>\n",
       "</g>\n",
       "<!-- rn_model2_convinputmodel0_conv1_fwd&#45;&gt;rn_model2_convinputmodel0_batchnorm0_fwd -->\n",
       "<g id=\"edge4\" class=\"edge\"><title>rn_model2_convinputmodel0_conv1_fwd&#45;&gt;rn_model2_convinputmodel0_batchnorm0_fwd</title>\n",
       "<path fill=\"none\" stroke=\"black\" d=\"M47,-425.582C47,-412.284 47,-397.632 47,-385.297\"/>\n",
       "<polygon fill=\"black\" stroke=\"black\" points=\"47,-435.887 42.5001,-425.887 47,-430.887 47.0001,-425.887 47.0001,-425.887 47.0001,-425.887 47,-430.887 51.5001,-425.887 47,-435.887 47,-435.887\"/>\n",
       "<text text-anchor=\"middle\" x=\"74.5\" y=\"-406.8\" font-family=\"Times,serif\" font-size=\"14.00\">24x38x38</text>\n",
       "</g>\n",
       "<!-- rn_model2_convinputmodel0_conv1_relu_fwd -->\n",
       "<g id=\"node6\" class=\"node\"><title>rn_model2_convinputmodel0_conv1_relu_fwd</title>\n",
       "<polygon fill=\"#ffffb3\" stroke=\"black\" points=\"94,-603 -7.10543e-15,-603 -7.10543e-15,-545 94,-545 94,-603\"/>\n",
       "<text text-anchor=\"middle\" x=\"47\" y=\"-577.8\" font-family=\"Times,serif\" font-size=\"14.00\">Activation</text>\n",
       "<text text-anchor=\"middle\" x=\"47\" y=\"-562.8\" font-family=\"Times,serif\" font-size=\"14.00\">relu</text>\n",
       "</g>\n",
       "<!-- rn_model2_convinputmodel0_conv1_relu_fwd&#45;&gt;rn_model2_convinputmodel0_conv1_fwd -->\n",
       "<g id=\"edge5\" class=\"edge\"><title>rn_model2_convinputmodel0_conv1_relu_fwd&#45;&gt;rn_model2_convinputmodel0_conv1_fwd</title>\n",
       "<path fill=\"none\" stroke=\"black\" d=\"M47,-534.582C47,-521.284 47,-506.632 47,-494.297\"/>\n",
       "<polygon fill=\"black\" stroke=\"black\" points=\"47,-544.887 42.5001,-534.887 47,-539.887 47.0001,-534.887 47.0001,-534.887 47.0001,-534.887 47,-539.887 51.5001,-534.887 47,-544.887 47,-544.887\"/>\n",
       "<text text-anchor=\"middle\" x=\"74.5\" y=\"-515.8\" font-family=\"Times,serif\" font-size=\"14.00\">24x19x19</text>\n",
       "</g>\n",
       "<!-- rn_model2_convinputmodel0_batchnorm1_fwd -->\n",
       "<g id=\"node7\" class=\"node\"><title>rn_model2_convinputmodel0_batchnorm1_fwd</title>\n",
       "<polygon fill=\"#bebada\" stroke=\"black\" points=\"94,-712 -7.10543e-15,-712 -7.10543e-15,-654 94,-654 94,-712\"/>\n",
       "<text text-anchor=\"middle\" x=\"47\" y=\"-679.3\" font-family=\"Times,serif\" font-size=\"14.00\">rn_model2_convinputmodel0_batchnorm1_fwd</text>\n",
       "</g>\n",
       "<!-- rn_model2_convinputmodel0_batchnorm1_fwd&#45;&gt;rn_model2_convinputmodel0_conv1_relu_fwd -->\n",
       "<g id=\"edge6\" class=\"edge\"><title>rn_model2_convinputmodel0_batchnorm1_fwd&#45;&gt;rn_model2_convinputmodel0_conv1_relu_fwd</title>\n",
       "<path fill=\"none\" stroke=\"black\" d=\"M47,-643.582C47,-630.284 47,-615.632 47,-603.297\"/>\n",
       "<polygon fill=\"black\" stroke=\"black\" points=\"47,-653.887 42.5001,-643.887 47,-648.887 47.0001,-643.887 47.0001,-643.887 47.0001,-643.887 47,-648.887 51.5001,-643.887 47,-653.887 47,-653.887\"/>\n",
       "<text text-anchor=\"middle\" x=\"74.5\" y=\"-624.8\" font-family=\"Times,serif\" font-size=\"14.00\">24x19x19</text>\n",
       "</g>\n",
       "<!-- rn_model2_convinputmodel0_conv2_fwd -->\n",
       "<g id=\"node8\" class=\"node\"><title>rn_model2_convinputmodel0_conv2_fwd</title>\n",
       "<polygon fill=\"#fb8072\" stroke=\"black\" points=\"94,-821 -7.10543e-15,-821 -7.10543e-15,-763 94,-763 94,-821\"/>\n",
       "<text text-anchor=\"middle\" x=\"47\" y=\"-795.8\" font-family=\"Times,serif\" font-size=\"14.00\">Convolution</text>\n",
       "<text text-anchor=\"middle\" x=\"47\" y=\"-780.8\" font-family=\"Times,serif\" font-size=\"14.00\">3x3/2x2, 24</text>\n",
       "</g>\n",
       "<!-- rn_model2_convinputmodel0_conv2_fwd&#45;&gt;rn_model2_convinputmodel0_batchnorm1_fwd -->\n",
       "<g id=\"edge7\" class=\"edge\"><title>rn_model2_convinputmodel0_conv2_fwd&#45;&gt;rn_model2_convinputmodel0_batchnorm1_fwd</title>\n",
       "<path fill=\"none\" stroke=\"black\" d=\"M47,-752.582C47,-739.284 47,-724.632 47,-712.297\"/>\n",
       "<polygon fill=\"black\" stroke=\"black\" points=\"47,-762.887 42.5001,-752.887 47,-757.887 47.0001,-752.887 47.0001,-752.887 47.0001,-752.887 47,-757.887 51.5001,-752.887 47,-762.887 47,-762.887\"/>\n",
       "<text text-anchor=\"middle\" x=\"74.5\" y=\"-733.8\" font-family=\"Times,serif\" font-size=\"14.00\">24x19x19</text>\n",
       "</g>\n",
       "<!-- rn_model2_convinputmodel0_conv2_relu_fwd -->\n",
       "<g id=\"node9\" class=\"node\"><title>rn_model2_convinputmodel0_conv2_relu_fwd</title>\n",
       "<polygon fill=\"#ffffb3\" stroke=\"black\" points=\"94,-930 -7.10543e-15,-930 -7.10543e-15,-872 94,-872 94,-930\"/>\n",
       "<text text-anchor=\"middle\" x=\"47\" y=\"-904.8\" font-family=\"Times,serif\" font-size=\"14.00\">Activation</text>\n",
       "<text text-anchor=\"middle\" x=\"47\" y=\"-889.8\" font-family=\"Times,serif\" font-size=\"14.00\">relu</text>\n",
       "</g>\n",
       "<!-- rn_model2_convinputmodel0_conv2_relu_fwd&#45;&gt;rn_model2_convinputmodel0_conv2_fwd -->\n",
       "<g id=\"edge8\" class=\"edge\"><title>rn_model2_convinputmodel0_conv2_relu_fwd&#45;&gt;rn_model2_convinputmodel0_conv2_fwd</title>\n",
       "<path fill=\"none\" stroke=\"black\" d=\"M47,-861.582C47,-848.284 47,-833.632 47,-821.297\"/>\n",
       "<polygon fill=\"black\" stroke=\"black\" points=\"47,-871.887 42.5001,-861.887 47,-866.887 47.0001,-861.887 47.0001,-861.887 47.0001,-861.887 47,-866.887 51.5001,-861.887 47,-871.887 47,-871.887\"/>\n",
       "<text text-anchor=\"middle\" x=\"74.5\" y=\"-842.8\" font-family=\"Times,serif\" font-size=\"14.00\">24x10x10</text>\n",
       "</g>\n",
       "<!-- rn_model2_convinputmodel0_batchnorm2_fwd -->\n",
       "<g id=\"node10\" class=\"node\"><title>rn_model2_convinputmodel0_batchnorm2_fwd</title>\n",
       "<polygon fill=\"#bebada\" stroke=\"black\" points=\"94,-1039 -7.10543e-15,-1039 -7.10543e-15,-981 94,-981 94,-1039\"/>\n",
       "<text text-anchor=\"middle\" x=\"47\" y=\"-1006.3\" font-family=\"Times,serif\" font-size=\"14.00\">rn_model2_convinputmodel0_batchnorm2_fwd</text>\n",
       "</g>\n",
       "<!-- rn_model2_convinputmodel0_batchnorm2_fwd&#45;&gt;rn_model2_convinputmodel0_conv2_relu_fwd -->\n",
       "<g id=\"edge9\" class=\"edge\"><title>rn_model2_convinputmodel0_batchnorm2_fwd&#45;&gt;rn_model2_convinputmodel0_conv2_relu_fwd</title>\n",
       "<path fill=\"none\" stroke=\"black\" d=\"M47,-970.582C47,-957.284 47,-942.632 47,-930.297\"/>\n",
       "<polygon fill=\"black\" stroke=\"black\" points=\"47,-980.887 42.5001,-970.887 47,-975.887 47.0001,-970.887 47.0001,-970.887 47.0001,-970.887 47,-975.887 51.5001,-970.887 47,-980.887 47,-980.887\"/>\n",
       "<text text-anchor=\"middle\" x=\"74.5\" y=\"-951.8\" font-family=\"Times,serif\" font-size=\"14.00\">24x10x10</text>\n",
       "</g>\n",
       "<!-- rn_model2_convinputmodel0_conv3_fwd -->\n",
       "<g id=\"node11\" class=\"node\"><title>rn_model2_convinputmodel0_conv3_fwd</title>\n",
       "<polygon fill=\"#fb8072\" stroke=\"black\" points=\"94,-1148 -7.10543e-15,-1148 -7.10543e-15,-1090 94,-1090 94,-1148\"/>\n",
       "<text text-anchor=\"middle\" x=\"47\" y=\"-1122.8\" font-family=\"Times,serif\" font-size=\"14.00\">Convolution</text>\n",
       "<text text-anchor=\"middle\" x=\"47\" y=\"-1107.8\" font-family=\"Times,serif\" font-size=\"14.00\">3x3/2x2, 24</text>\n",
       "</g>\n",
       "<!-- rn_model2_convinputmodel0_conv3_fwd&#45;&gt;rn_model2_convinputmodel0_batchnorm2_fwd -->\n",
       "<g id=\"edge10\" class=\"edge\"><title>rn_model2_convinputmodel0_conv3_fwd&#45;&gt;rn_model2_convinputmodel0_batchnorm2_fwd</title>\n",
       "<path fill=\"none\" stroke=\"black\" d=\"M47,-1079.58C47,-1066.28 47,-1051.63 47,-1039.3\"/>\n",
       "<polygon fill=\"black\" stroke=\"black\" points=\"47,-1089.89 42.5001,-1079.89 47,-1084.89 47.0001,-1079.89 47.0001,-1079.89 47.0001,-1079.89 47,-1084.89 51.5001,-1079.89 47,-1089.89 47,-1089.89\"/>\n",
       "<text text-anchor=\"middle\" x=\"74.5\" y=\"-1060.8\" font-family=\"Times,serif\" font-size=\"14.00\">24x10x10</text>\n",
       "</g>\n",
       "<!-- rn_model2_convinputmodel0_conv3_relu_fwd -->\n",
       "<g id=\"node12\" class=\"node\"><title>rn_model2_convinputmodel0_conv3_relu_fwd</title>\n",
       "<polygon fill=\"#ffffb3\" stroke=\"black\" points=\"94,-1257 -7.10543e-15,-1257 -7.10543e-15,-1199 94,-1199 94,-1257\"/>\n",
       "<text text-anchor=\"middle\" x=\"47\" y=\"-1231.8\" font-family=\"Times,serif\" font-size=\"14.00\">Activation</text>\n",
       "<text text-anchor=\"middle\" x=\"47\" y=\"-1216.8\" font-family=\"Times,serif\" font-size=\"14.00\">relu</text>\n",
       "</g>\n",
       "<!-- rn_model2_convinputmodel0_conv3_relu_fwd&#45;&gt;rn_model2_convinputmodel0_conv3_fwd -->\n",
       "<g id=\"edge11\" class=\"edge\"><title>rn_model2_convinputmodel0_conv3_relu_fwd&#45;&gt;rn_model2_convinputmodel0_conv3_fwd</title>\n",
       "<path fill=\"none\" stroke=\"black\" d=\"M47,-1188.58C47,-1175.28 47,-1160.63 47,-1148.3\"/>\n",
       "<polygon fill=\"black\" stroke=\"black\" points=\"47,-1198.89 42.5001,-1188.89 47,-1193.89 47.0001,-1188.89 47.0001,-1188.89 47.0001,-1188.89 47,-1193.89 51.5001,-1188.89 47,-1198.89 47,-1198.89\"/>\n",
       "<text text-anchor=\"middle\" x=\"67.5\" y=\"-1169.8\" font-family=\"Times,serif\" font-size=\"14.00\">24x5x5</text>\n",
       "</g>\n",
       "<!-- rn_model2_convinputmodel0_batchnorm3_fwd -->\n",
       "<g id=\"node13\" class=\"node\"><title>rn_model2_convinputmodel0_batchnorm3_fwd</title>\n",
       "<polygon fill=\"#bebada\" stroke=\"black\" points=\"94,-1366 -7.10543e-15,-1366 -7.10543e-15,-1308 94,-1308 94,-1366\"/>\n",
       "<text text-anchor=\"middle\" x=\"47\" y=\"-1333.3\" font-family=\"Times,serif\" font-size=\"14.00\">rn_model2_convinputmodel0_batchnorm3_fwd</text>\n",
       "</g>\n",
       "<!-- rn_model2_convinputmodel0_batchnorm3_fwd&#45;&gt;rn_model2_convinputmodel0_conv3_relu_fwd -->\n",
       "<g id=\"edge12\" class=\"edge\"><title>rn_model2_convinputmodel0_batchnorm3_fwd&#45;&gt;rn_model2_convinputmodel0_conv3_relu_fwd</title>\n",
       "<path fill=\"none\" stroke=\"black\" d=\"M47,-1297.58C47,-1284.28 47,-1269.63 47,-1257.3\"/>\n",
       "<polygon fill=\"black\" stroke=\"black\" points=\"47,-1307.89 42.5001,-1297.89 47,-1302.89 47.0001,-1297.89 47.0001,-1297.89 47.0001,-1297.89 47,-1302.89 51.5001,-1297.89 47,-1307.89 47,-1307.89\"/>\n",
       "<text text-anchor=\"middle\" x=\"67.5\" y=\"-1278.8\" font-family=\"Times,serif\" font-size=\"14.00\">24x5x5</text>\n",
       "</g>\n",
       "<!-- rn_model2_reshape0 -->\n",
       "<g id=\"node14\" class=\"node\"><title>rn_model2_reshape0</title>\n",
       "<polygon fill=\"#fdb462\" stroke=\"black\" points=\"94,-1475 -7.10543e-15,-1475 -7.10543e-15,-1417 94,-1417 94,-1475\"/>\n",
       "<text text-anchor=\"middle\" x=\"47\" y=\"-1442.3\" font-family=\"Times,serif\" font-size=\"14.00\">rn_model2_reshape0</text>\n",
       "</g>\n",
       "<!-- rn_model2_reshape0&#45;&gt;rn_model2_convinputmodel0_batchnorm3_fwd -->\n",
       "<g id=\"edge13\" class=\"edge\"><title>rn_model2_reshape0&#45;&gt;rn_model2_convinputmodel0_batchnorm3_fwd</title>\n",
       "<path fill=\"none\" stroke=\"black\" d=\"M47,-1406.58C47,-1393.28 47,-1378.63 47,-1366.3\"/>\n",
       "<polygon fill=\"black\" stroke=\"black\" points=\"47,-1416.89 42.5001,-1406.89 47,-1411.89 47.0001,-1406.89 47.0001,-1406.89 47.0001,-1406.89 47,-1411.89 51.5001,-1406.89 47,-1416.89 47,-1416.89\"/>\n",
       "<text text-anchor=\"middle\" x=\"67.5\" y=\"-1387.8\" font-family=\"Times,serif\" font-size=\"14.00\">24x5x5</text>\n",
       "</g>\n",
       "<!-- rn_model2_swapaxes0 -->\n",
       "<g id=\"node15\" class=\"node\"><title>rn_model2_swapaxes0</title>\n",
       "<polygon fill=\"#fccde5\" stroke=\"black\" points=\"94,-1584 -7.10543e-15,-1584 -7.10543e-15,-1526 94,-1526 94,-1584\"/>\n",
       "<text text-anchor=\"middle\" x=\"47\" y=\"-1551.3\" font-family=\"Times,serif\" font-size=\"14.00\">rn_model2_swapaxes0</text>\n",
       "</g>\n",
       "<!-- rn_model2_swapaxes0&#45;&gt;rn_model2_reshape0 -->\n",
       "<g id=\"edge14\" class=\"edge\"><title>rn_model2_swapaxes0&#45;&gt;rn_model2_reshape0</title>\n",
       "<path fill=\"none\" stroke=\"black\" d=\"M47,-1515.58C47,-1502.28 47,-1487.63 47,-1475.3\"/>\n",
       "<polygon fill=\"black\" stroke=\"black\" points=\"47,-1525.89 42.5001,-1515.89 47,-1520.89 47.0001,-1515.89 47.0001,-1515.89 47.0001,-1515.89 47,-1520.89 51.5001,-1515.89 47,-1525.89 47,-1525.89\"/>\n",
       "<text text-anchor=\"middle\" x=\"64\" y=\"-1496.8\" font-family=\"Times,serif\" font-size=\"14.00\">24x25</text>\n",
       "</g>\n",
       "<!-- coord_tensor -->\n",
       "<g id=\"node16\" class=\"node\"><title>coord_tensor</title>\n",
       "<ellipse fill=\"#8dd3c7\" stroke=\"black\" cx=\"159\" cy=\"-1555\" rx=\"47\" ry=\"29\"/>\n",
       "<text text-anchor=\"middle\" x=\"159\" y=\"-1551.3\" font-family=\"Times,serif\" font-size=\"14.00\">coord_tensor</text>\n",
       "</g>\n",
       "<!-- rn_model2_concat0 -->\n",
       "<g id=\"node17\" class=\"node\"><title>rn_model2_concat0</title>\n",
       "<polygon fill=\"#fdb462\" stroke=\"black\" points=\"181,-1693 87,-1693 87,-1635 181,-1635 181,-1693\"/>\n",
       "<text text-anchor=\"middle\" x=\"134\" y=\"-1660.3\" font-family=\"Times,serif\" font-size=\"14.00\">rn_model2_concat0</text>\n",
       "</g>\n",
       "<!-- rn_model2_concat0&#45;&gt;rn_model2_swapaxes0 -->\n",
       "<g id=\"edge15\" class=\"edge\"><title>rn_model2_concat0&#45;&gt;rn_model2_swapaxes0</title>\n",
       "<path fill=\"none\" stroke=\"black\" d=\"M104.678,-1626.94C93.3728,-1613.03 80.633,-1597.36 70.0076,-1584.3\"/>\n",
       "<polygon fill=\"black\" stroke=\"black\" points=\"111.142,-1634.89 101.342,-1629.97 107.987,-1631.01 104.833,-1627.13 104.833,-1627.13 104.833,-1627.13 107.987,-1631.01 108.325,-1624.29 111.142,-1634.89 111.142,-1634.89\"/>\n",
       "<text text-anchor=\"middle\" x=\"113\" y=\"-1605.8\" font-family=\"Times,serif\" font-size=\"14.00\">25x24</text>\n",
       "</g>\n",
       "<!-- rn_model2_concat0&#45;&gt;coord_tensor -->\n",
       "<g id=\"edge16\" class=\"edge\"><title>rn_model2_concat0&#45;&gt;coord_tensor</title>\n",
       "<path fill=\"none\" stroke=\"black\" d=\"M142.903,-1624.9C146.061,-1611.38 149.553,-1596.43 152.475,-1583.93\"/>\n",
       "<polygon fill=\"black\" stroke=\"black\" points=\"140.568,-1634.89 138.462,-1624.13 141.706,-1630.02 142.844,-1625.15 142.844,-1625.15 142.844,-1625.15 141.706,-1630.02 147.226,-1626.17 140.568,-1634.89 140.568,-1634.89\"/>\n",
       "<text text-anchor=\"middle\" x=\"161\" y=\"-1605.8\" font-family=\"Times,serif\" font-size=\"14.00\">25x2</text>\n",
       "</g>\n",
       "<!-- rn_model2_expand_dims2 -->\n",
       "<g id=\"node18\" class=\"node\"><title>rn_model2_expand_dims2</title>\n",
       "<polygon fill=\"#fccde5\" stroke=\"black\" points=\"132,-1878 38,-1878 38,-1820 132,-1820 132,-1878\"/>\n",
       "<text text-anchor=\"middle\" x=\"85\" y=\"-1845.3\" font-family=\"Times,serif\" font-size=\"14.00\">rn_model2_expand_dims2</text>\n",
       "</g>\n",
       "<!-- rn_model2_expand_dims2&#45;&gt;rn_model2_concat0 -->\n",
       "<g id=\"edge17\" class=\"edge\"><title>rn_model2_expand_dims2&#45;&gt;rn_model2_concat0</title>\n",
       "<path fill=\"none\" stroke=\"black\" d=\"M84.8525,-1809.44C85.6448,-1789.56 87.9816,-1765.13 94,-1744 99.054,-1726.26 108.159,-1707.79 116.407,-1693.18\"/>\n",
       "<polygon fill=\"black\" stroke=\"black\" points=\"84.5625,-1819.67 80.3478,-1809.54 84.7043,-1814.67 84.846,-1809.67 84.846,-1809.67 84.846,-1809.67 84.7043,-1814.67 89.3442,-1809.8 84.5625,-1819.67 84.5625,-1819.67\"/>\n",
       "<text text-anchor=\"middle\" x=\"111\" y=\"-1769.3\" font-family=\"Times,serif\" font-size=\"14.00\">25x26</text>\n",
       "</g>\n",
       "<!-- rn_model2_repeat1 -->\n",
       "<g id=\"node19\" class=\"node\"><title>rn_model2_repeat1</title>\n",
       "<polygon fill=\"#fccde5\" stroke=\"black\" points=\"133,-2030 39,-2030 39,-1972 133,-1972 133,-2030\"/>\n",
       "<text text-anchor=\"middle\" x=\"86\" y=\"-1997.3\" font-family=\"Times,serif\" font-size=\"14.00\">rn_model2_repeat1</text>\n",
       "</g>\n",
       "<!-- rn_model2_repeat1&#45;&gt;rn_model2_expand_dims2 -->\n",
       "<g id=\"edge18\" class=\"edge\"><title>rn_model2_repeat1&#45;&gt;rn_model2_expand_dims2</title>\n",
       "<path fill=\"none\" stroke=\"black\" d=\"M85.7434,-1961.51C85.5697,-1935.45 85.3441,-1901.62 85.1872,-1878.09\"/>\n",
       "<polygon fill=\"black\" stroke=\"black\" points=\"85.8119,-1971.79 81.2452,-1961.82 85.7785,-1966.79 85.7451,-1961.79 85.7451,-1961.79 85.7451,-1961.79 85.7785,-1966.79 90.245,-1961.76 85.8119,-1971.79 85.8119,-1971.79\"/>\n",
       "<text text-anchor=\"middle\" x=\"110\" y=\"-1921.3\" font-family=\"Times,serif\" font-size=\"14.00\">1x25x26</text>\n",
       "</g>\n",
       "<!-- rn_model2_expand_dims3 -->\n",
       "<g id=\"node20\" class=\"node\"><title>rn_model2_expand_dims3</title>\n",
       "<polygon fill=\"#fccde5\" stroke=\"black\" points=\"231,-1802 137,-1802 137,-1744 231,-1744 231,-1802\"/>\n",
       "<text text-anchor=\"middle\" x=\"184\" y=\"-1769.3\" font-family=\"Times,serif\" font-size=\"14.00\">rn_model2_expand_dims3</text>\n",
       "</g>\n",
       "<!-- rn_model2_expand_dims3&#45;&gt;rn_model2_concat0 -->\n",
       "<g id=\"edge19\" class=\"edge\"><title>rn_model2_expand_dims3&#45;&gt;rn_model2_concat0</title>\n",
       "<path fill=\"none\" stroke=\"black\" d=\"M166.6,-1734.76C160.241,-1721.16 153.158,-1706 147.223,-1693.3\"/>\n",
       "<polygon fill=\"black\" stroke=\"black\" points=\"170.863,-1743.89 162.553,-1736.73 168.746,-1739.36 166.63,-1734.83 166.63,-1734.83 166.63,-1734.83 168.746,-1739.36 170.706,-1732.92 170.863,-1743.89 170.863,-1743.89\"/>\n",
       "<text text-anchor=\"middle\" x=\"178\" y=\"-1714.8\" font-family=\"Times,serif\" font-size=\"14.00\">25x26</text>\n",
       "</g>\n",
       "<!-- qst -->\n",
       "<g id=\"node21\" class=\"node\"><title>qst</title>\n",
       "<ellipse fill=\"#8dd3c7\" stroke=\"black\" cx=\"296\" cy=\"-1446\" rx=\"47\" ry=\"29\"/>\n",
       "<text text-anchor=\"middle\" x=\"296\" y=\"-1442.3\" font-family=\"Times,serif\" font-size=\"14.00\">qst</text>\n",
       "</g>\n",
       "<!-- rn_model2_expand_dims0 -->\n",
       "<g id=\"node22\" class=\"node\"><title>rn_model2_expand_dims0</title>\n",
       "<polygon fill=\"#fccde5\" stroke=\"black\" points=\"343,-1584 249,-1584 249,-1526 343,-1526 343,-1584\"/>\n",
       "<text text-anchor=\"middle\" x=\"296\" y=\"-1551.3\" font-family=\"Times,serif\" font-size=\"14.00\">rn_model2_expand_dims0</text>\n",
       "</g>\n",
       "<!-- rn_model2_expand_dims0&#45;&gt;qst -->\n",
       "<g id=\"edge20\" class=\"edge\"><title>rn_model2_expand_dims0&#45;&gt;qst</title>\n",
       "<path fill=\"none\" stroke=\"black\" d=\"M296,-1515.58C296,-1502.28 296,-1487.63 296,-1475.3\"/>\n",
       "<polygon fill=\"black\" stroke=\"black\" points=\"296,-1525.89 291.5,-1515.89 296,-1520.89 296,-1515.89 296,-1515.89 296,-1515.89 296,-1520.89 300.5,-1515.89 296,-1525.89 296,-1525.89\"/>\n",
       "<text text-anchor=\"middle\" x=\"303\" y=\"-1496.8\" font-family=\"Times,serif\" font-size=\"14.00\">11</text>\n",
       "</g>\n",
       "<!-- rn_model2_repeat0 -->\n",
       "<g id=\"node23\" class=\"node\"><title>rn_model2_repeat0</title>\n",
       "<polygon fill=\"#fccde5\" stroke=\"black\" points=\"343,-1693 249,-1693 249,-1635 343,-1635 343,-1693\"/>\n",
       "<text text-anchor=\"middle\" x=\"296\" y=\"-1660.3\" font-family=\"Times,serif\" font-size=\"14.00\">rn_model2_repeat0</text>\n",
       "</g>\n",
       "<!-- rn_model2_repeat0&#45;&gt;rn_model2_expand_dims0 -->\n",
       "<g id=\"edge21\" class=\"edge\"><title>rn_model2_repeat0&#45;&gt;rn_model2_expand_dims0</title>\n",
       "<path fill=\"none\" stroke=\"black\" d=\"M296,-1624.58C296,-1611.28 296,-1596.63 296,-1584.3\"/>\n",
       "<polygon fill=\"black\" stroke=\"black\" points=\"296,-1634.89 291.5,-1624.89 296,-1629.89 296,-1624.89 296,-1624.89 296,-1624.89 296,-1629.89 300.5,-1624.89 296,-1634.89 296,-1634.89\"/>\n",
       "<text text-anchor=\"middle\" x=\"310\" y=\"-1605.8\" font-family=\"Times,serif\" font-size=\"14.00\">1x11</text>\n",
       "</g>\n",
       "<!-- rn_model2_expand_dims1 -->\n",
       "<g id=\"node24\" class=\"node\"><title>rn_model2_expand_dims1</title>\n",
       "<polygon fill=\"#fccde5\" stroke=\"black\" points=\"343,-1802 249,-1802 249,-1744 343,-1744 343,-1802\"/>\n",
       "<text text-anchor=\"middle\" x=\"296\" y=\"-1769.3\" font-family=\"Times,serif\" font-size=\"14.00\">rn_model2_expand_dims1</text>\n",
       "</g>\n",
       "<!-- rn_model2_expand_dims1&#45;&gt;rn_model2_repeat0 -->\n",
       "<g id=\"edge22\" class=\"edge\"><title>rn_model2_expand_dims1&#45;&gt;rn_model2_repeat0</title>\n",
       "<path fill=\"none\" stroke=\"black\" d=\"M296,-1733.58C296,-1720.28 296,-1705.63 296,-1693.3\"/>\n",
       "<polygon fill=\"black\" stroke=\"black\" points=\"296,-1743.89 291.5,-1733.89 296,-1738.89 296,-1733.89 296,-1733.89 296,-1733.89 296,-1738.89 300.5,-1733.89 296,-1743.89 296,-1743.89\"/>\n",
       "<text text-anchor=\"middle\" x=\"313\" y=\"-1714.8\" font-family=\"Times,serif\" font-size=\"14.00\">25x11</text>\n",
       "</g>\n",
       "<!-- rn_model2_concat1 -->\n",
       "<g id=\"node25\" class=\"node\"><title>rn_model2_concat1</title>\n",
       "<polygon fill=\"#fdb462\" stroke=\"black\" points=\"245,-1954 151,-1954 151,-1896 245,-1896 245,-1954\"/>\n",
       "<text text-anchor=\"middle\" x=\"198\" y=\"-1921.3\" font-family=\"Times,serif\" font-size=\"14.00\">rn_model2_concat1</text>\n",
       "</g>\n",
       "<!-- rn_model2_concat1&#45;&gt;rn_model2_expand_dims3 -->\n",
       "<g id=\"edge23\" class=\"edge\"><title>rn_model2_concat1&#45;&gt;rn_model2_expand_dims3</title>\n",
       "<path fill=\"none\" stroke=\"black\" d=\"M194.407,-1885.51C191.975,-1859.45 188.818,-1825.62 186.621,-1802.09\"/>\n",
       "<polygon fill=\"black\" stroke=\"black\" points=\"195.367,-1895.79 189.957,-1886.25 194.902,-1890.81 194.437,-1885.83 194.437,-1885.83 194.437,-1885.83 194.902,-1890.81 198.918,-1885.41 195.367,-1895.79 195.367,-1895.79\"/>\n",
       "<text text-anchor=\"middle\" x=\"217\" y=\"-1845.3\" font-family=\"Times,serif\" font-size=\"14.00\">25x1x26</text>\n",
       "</g>\n",
       "<!-- rn_model2_concat1&#45;&gt;rn_model2_expand_dims1 -->\n",
       "<g id=\"edge24\" class=\"edge\"><title>rn_model2_concat1&#45;&gt;rn_model2_expand_dims1</title>\n",
       "<path fill=\"none\" stroke=\"black\" d=\"M236.498,-1888.58C239.526,-1885.14 242.409,-1881.58 245,-1878 262.085,-1854.37 276.178,-1824.14 285.187,-1802.37\"/>\n",
       "<polygon fill=\"black\" stroke=\"black\" points=\"229.698,-1895.94 233.182,-1885.54 233.092,-1892.27 236.487,-1888.6 236.487,-1888.6 236.487,-1888.6 233.092,-1892.27 239.791,-1891.65 229.698,-1895.94 229.698,-1895.94\"/>\n",
       "<text text-anchor=\"middle\" x=\"301\" y=\"-1845.3\" font-family=\"Times,serif\" font-size=\"14.00\">25x1x11</text>\n",
       "</g>\n",
       "<!-- rn_model2_repeat2 -->\n",
       "<g id=\"node26\" class=\"node\"><title>rn_model2_repeat2</title>\n",
       "<polygon fill=\"#fccde5\" stroke=\"black\" points=\"241,-2106 147,-2106 147,-2048 241,-2048 241,-2106\"/>\n",
       "<text text-anchor=\"middle\" x=\"194\" y=\"-2073.3\" font-family=\"Times,serif\" font-size=\"14.00\">rn_model2_repeat2</text>\n",
       "</g>\n",
       "<!-- rn_model2_repeat2&#45;&gt;rn_model2_concat1 -->\n",
       "<g id=\"edge25\" class=\"edge\"><title>rn_model2_repeat2&#45;&gt;rn_model2_concat1</title>\n",
       "<path fill=\"none\" stroke=\"black\" d=\"M195.026,-2037.51C195.721,-2011.45 196.623,-1977.62 197.251,-1954.09\"/>\n",
       "<polygon fill=\"black\" stroke=\"black\" points=\"194.752,-2047.79 190.521,-2037.67 194.886,-2042.79 195.019,-2037.79 195.019,-2037.79 195.019,-2037.79 194.886,-2042.79 199.517,-2037.91 194.752,-2047.79 194.752,-2047.79\"/>\n",
       "<text text-anchor=\"middle\" x=\"220\" y=\"-1997.3\" font-family=\"Times,serif\" font-size=\"14.00\">25x1x37</text>\n",
       "</g>\n",
       "<!-- rn_model2_concat2 -->\n",
       "<g id=\"node27\" class=\"node\"><title>rn_model2_concat2</title>\n",
       "<polygon fill=\"#fdb462\" stroke=\"black\" points=\"176,-2215 82,-2215 82,-2157 176,-2157 176,-2215\"/>\n",
       "<text text-anchor=\"middle\" x=\"129\" y=\"-2182.3\" font-family=\"Times,serif\" font-size=\"14.00\">rn_model2_concat2</text>\n",
       "</g>\n",
       "<!-- rn_model2_concat2&#45;&gt;rn_model2_repeat1 -->\n",
       "<g id=\"edge26\" class=\"edge\"><title>rn_model2_concat2&#45;&gt;rn_model2_repeat1</title>\n",
       "<path fill=\"none\" stroke=\"black\" d=\"M101.754,-2147.77C100.319,-2144.88 99.0428,-2141.95 98,-2139 85.2537,-2102.99 83.7528,-2058.48 84.4195,-2030.16\"/>\n",
       "<polygon fill=\"black\" stroke=\"black\" points=\"106.779,-2156.75 97.9684,-2150.22 104.337,-2152.39 101.895,-2148.02 101.895,-2148.02 101.895,-2148.02 104.337,-2152.39 105.822,-2145.83 106.779,-2156.75 106.779,-2156.75\"/>\n",
       "<text text-anchor=\"middle\" x=\"125.5\" y=\"-2127.8\" font-family=\"Times,serif\" font-size=\"14.00\">25x25x26</text>\n",
       "</g>\n",
       "<!-- rn_model2_concat2&#45;&gt;rn_model2_repeat2 -->\n",
       "<g id=\"edge27\" class=\"edge\"><title>rn_model2_concat2&#45;&gt;rn_model2_repeat2</title>\n",
       "<path fill=\"none\" stroke=\"black\" d=\"M151.382,-2148.16C159.709,-2134.45 169.02,-2119.12 176.81,-2106.3\"/>\n",
       "<polygon fill=\"black\" stroke=\"black\" points=\"146.078,-2156.89 147.424,-2146 148.674,-2152.61 151.27,-2148.34 151.27,-2148.34 151.27,-2148.34 148.674,-2152.61 155.116,-2150.68 146.078,-2156.89 146.078,-2156.89\"/>\n",
       "<text text-anchor=\"middle\" x=\"192.5\" y=\"-2127.8\" font-family=\"Times,serif\" font-size=\"14.00\">25x25x37</text>\n",
       "</g>\n",
       "<!-- rn_model2_reshape1 -->\n",
       "<g id=\"node28\" class=\"node\"><title>rn_model2_reshape1</title>\n",
       "<polygon fill=\"#fdb462\" stroke=\"black\" points=\"176,-2324 82,-2324 82,-2266 176,-2266 176,-2324\"/>\n",
       "<text text-anchor=\"middle\" x=\"129\" y=\"-2291.3\" font-family=\"Times,serif\" font-size=\"14.00\">rn_model2_reshape1</text>\n",
       "</g>\n",
       "<!-- rn_model2_reshape1&#45;&gt;rn_model2_concat2 -->\n",
       "<g id=\"edge28\" class=\"edge\"><title>rn_model2_reshape1&#45;&gt;rn_model2_concat2</title>\n",
       "<path fill=\"none\" stroke=\"black\" d=\"M129,-2255.58C129,-2242.28 129,-2227.63 129,-2215.3\"/>\n",
       "<polygon fill=\"black\" stroke=\"black\" points=\"129,-2265.89 124.5,-2255.89 129,-2260.89 129,-2255.89 129,-2255.89 129,-2255.89 129,-2260.89 133.5,-2255.89 129,-2265.89 129,-2265.89\"/>\n",
       "<text text-anchor=\"middle\" x=\"156.5\" y=\"-2236.8\" font-family=\"Times,serif\" font-size=\"14.00\">25x25x63</text>\n",
       "</g>\n",
       "<!-- rn_model2_dense0_fwd -->\n",
       "<g id=\"node29\" class=\"node\"><title>rn_model2_dense0_fwd</title>\n",
       "<polygon fill=\"#fb8072\" stroke=\"black\" points=\"176,-2433 82,-2433 82,-2375 176,-2375 176,-2433\"/>\n",
       "<text text-anchor=\"middle\" x=\"129\" y=\"-2407.8\" font-family=\"Times,serif\" font-size=\"14.00\">FullyConnected</text>\n",
       "<text text-anchor=\"middle\" x=\"129\" y=\"-2392.8\" font-family=\"Times,serif\" font-size=\"14.00\">256</text>\n",
       "</g>\n",
       "<!-- rn_model2_dense0_fwd&#45;&gt;rn_model2_reshape1 -->\n",
       "<g id=\"edge29\" class=\"edge\"><title>rn_model2_dense0_fwd&#45;&gt;rn_model2_reshape1</title>\n",
       "<path fill=\"none\" stroke=\"black\" d=\"M129,-2364.58C129,-2351.28 129,-2336.63 129,-2324.3\"/>\n",
       "<polygon fill=\"black\" stroke=\"black\" points=\"129,-2374.89 124.5,-2364.89 129,-2369.89 129,-2364.89 129,-2364.89 129,-2364.89 129,-2369.89 133.5,-2364.89 129,-2374.89 129,-2374.89\"/>\n",
       "<text text-anchor=\"middle\" x=\"149.5\" y=\"-2345.8\" font-family=\"Times,serif\" font-size=\"14.00\">625x63</text>\n",
       "</g>\n",
       "<!-- rn_model2_dense0_relu_fwd -->\n",
       "<g id=\"node30\" class=\"node\"><title>rn_model2_dense0_relu_fwd</title>\n",
       "<polygon fill=\"#ffffb3\" stroke=\"black\" points=\"176,-2542 82,-2542 82,-2484 176,-2484 176,-2542\"/>\n",
       "<text text-anchor=\"middle\" x=\"129\" y=\"-2516.8\" font-family=\"Times,serif\" font-size=\"14.00\">Activation</text>\n",
       "<text text-anchor=\"middle\" x=\"129\" y=\"-2501.8\" font-family=\"Times,serif\" font-size=\"14.00\">relu</text>\n",
       "</g>\n",
       "<!-- rn_model2_dense0_relu_fwd&#45;&gt;rn_model2_dense0_fwd -->\n",
       "<g id=\"edge30\" class=\"edge\"><title>rn_model2_dense0_relu_fwd&#45;&gt;rn_model2_dense0_fwd</title>\n",
       "<path fill=\"none\" stroke=\"black\" d=\"M129,-2473.58C129,-2460.28 129,-2445.63 129,-2433.3\"/>\n",
       "<polygon fill=\"black\" stroke=\"black\" points=\"129,-2483.89 124.5,-2473.89 129,-2478.89 129,-2473.89 129,-2473.89 129,-2473.89 129,-2478.89 133.5,-2473.89 129,-2483.89 129,-2483.89\"/>\n",
       "<text text-anchor=\"middle\" x=\"153\" y=\"-2454.8\" font-family=\"Times,serif\" font-size=\"14.00\">625x256</text>\n",
       "</g>\n",
       "<!-- rn_model2_dense1_fwd -->\n",
       "<g id=\"node31\" class=\"node\"><title>rn_model2_dense1_fwd</title>\n",
       "<polygon fill=\"#fb8072\" stroke=\"black\" points=\"176,-2651 82,-2651 82,-2593 176,-2593 176,-2651\"/>\n",
       "<text text-anchor=\"middle\" x=\"129\" y=\"-2625.8\" font-family=\"Times,serif\" font-size=\"14.00\">FullyConnected</text>\n",
       "<text text-anchor=\"middle\" x=\"129\" y=\"-2610.8\" font-family=\"Times,serif\" font-size=\"14.00\">256</text>\n",
       "</g>\n",
       "<!-- rn_model2_dense1_fwd&#45;&gt;rn_model2_dense0_relu_fwd -->\n",
       "<g id=\"edge31\" class=\"edge\"><title>rn_model2_dense1_fwd&#45;&gt;rn_model2_dense0_relu_fwd</title>\n",
       "<path fill=\"none\" stroke=\"black\" d=\"M129,-2582.58C129,-2569.28 129,-2554.63 129,-2542.3\"/>\n",
       "<polygon fill=\"black\" stroke=\"black\" points=\"129,-2592.89 124.5,-2582.89 129,-2587.89 129,-2582.89 129,-2582.89 129,-2582.89 129,-2587.89 133.5,-2582.89 129,-2592.89 129,-2592.89\"/>\n",
       "<text text-anchor=\"middle\" x=\"153\" y=\"-2563.8\" font-family=\"Times,serif\" font-size=\"14.00\">625x256</text>\n",
       "</g>\n",
       "<!-- rn_model2_dense1_relu_fwd -->\n",
       "<g id=\"node32\" class=\"node\"><title>rn_model2_dense1_relu_fwd</title>\n",
       "<polygon fill=\"#ffffb3\" stroke=\"black\" points=\"176,-2760 82,-2760 82,-2702 176,-2702 176,-2760\"/>\n",
       "<text text-anchor=\"middle\" x=\"129\" y=\"-2734.8\" font-family=\"Times,serif\" font-size=\"14.00\">Activation</text>\n",
       "<text text-anchor=\"middle\" x=\"129\" y=\"-2719.8\" font-family=\"Times,serif\" font-size=\"14.00\">relu</text>\n",
       "</g>\n",
       "<!-- rn_model2_dense1_relu_fwd&#45;&gt;rn_model2_dense1_fwd -->\n",
       "<g id=\"edge32\" class=\"edge\"><title>rn_model2_dense1_relu_fwd&#45;&gt;rn_model2_dense1_fwd</title>\n",
       "<path fill=\"none\" stroke=\"black\" d=\"M129,-2691.58C129,-2678.28 129,-2663.63 129,-2651.3\"/>\n",
       "<polygon fill=\"black\" stroke=\"black\" points=\"129,-2701.89 124.5,-2691.89 129,-2696.89 129,-2691.89 129,-2691.89 129,-2691.89 129,-2696.89 133.5,-2691.89 129,-2701.89 129,-2701.89\"/>\n",
       "<text text-anchor=\"middle\" x=\"153\" y=\"-2672.8\" font-family=\"Times,serif\" font-size=\"14.00\">625x256</text>\n",
       "</g>\n",
       "<!-- rn_model2_dense2_fwd -->\n",
       "<g id=\"node33\" class=\"node\"><title>rn_model2_dense2_fwd</title>\n",
       "<polygon fill=\"#fb8072\" stroke=\"black\" points=\"176,-2869 82,-2869 82,-2811 176,-2811 176,-2869\"/>\n",
       "<text text-anchor=\"middle\" x=\"129\" y=\"-2843.8\" font-family=\"Times,serif\" font-size=\"14.00\">FullyConnected</text>\n",
       "<text text-anchor=\"middle\" x=\"129\" y=\"-2828.8\" font-family=\"Times,serif\" font-size=\"14.00\">256</text>\n",
       "</g>\n",
       "<!-- rn_model2_dense2_fwd&#45;&gt;rn_model2_dense1_relu_fwd -->\n",
       "<g id=\"edge33\" class=\"edge\"><title>rn_model2_dense2_fwd&#45;&gt;rn_model2_dense1_relu_fwd</title>\n",
       "<path fill=\"none\" stroke=\"black\" d=\"M129,-2800.58C129,-2787.28 129,-2772.63 129,-2760.3\"/>\n",
       "<polygon fill=\"black\" stroke=\"black\" points=\"129,-2810.89 124.5,-2800.89 129,-2805.89 129,-2800.89 129,-2800.89 129,-2800.89 129,-2805.89 133.5,-2800.89 129,-2810.89 129,-2810.89\"/>\n",
       "<text text-anchor=\"middle\" x=\"153\" y=\"-2781.8\" font-family=\"Times,serif\" font-size=\"14.00\">625x256</text>\n",
       "</g>\n",
       "<!-- rn_model2_dense2_relu_fwd -->\n",
       "<g id=\"node34\" class=\"node\"><title>rn_model2_dense2_relu_fwd</title>\n",
       "<polygon fill=\"#ffffb3\" stroke=\"black\" points=\"176,-2978 82,-2978 82,-2920 176,-2920 176,-2978\"/>\n",
       "<text text-anchor=\"middle\" x=\"129\" y=\"-2952.8\" font-family=\"Times,serif\" font-size=\"14.00\">Activation</text>\n",
       "<text text-anchor=\"middle\" x=\"129\" y=\"-2937.8\" font-family=\"Times,serif\" font-size=\"14.00\">relu</text>\n",
       "</g>\n",
       "<!-- rn_model2_dense2_relu_fwd&#45;&gt;rn_model2_dense2_fwd -->\n",
       "<g id=\"edge34\" class=\"edge\"><title>rn_model2_dense2_relu_fwd&#45;&gt;rn_model2_dense2_fwd</title>\n",
       "<path fill=\"none\" stroke=\"black\" d=\"M129,-2909.58C129,-2896.28 129,-2881.63 129,-2869.3\"/>\n",
       "<polygon fill=\"black\" stroke=\"black\" points=\"129,-2919.89 124.5,-2909.89 129,-2914.89 129,-2909.89 129,-2909.89 129,-2909.89 129,-2914.89 133.5,-2909.89 129,-2919.89 129,-2919.89\"/>\n",
       "<text text-anchor=\"middle\" x=\"153\" y=\"-2890.8\" font-family=\"Times,serif\" font-size=\"14.00\">625x256</text>\n",
       "</g>\n",
       "<!-- rn_model2_dense3_fwd -->\n",
       "<g id=\"node35\" class=\"node\"><title>rn_model2_dense3_fwd</title>\n",
       "<polygon fill=\"#fb8072\" stroke=\"black\" points=\"176,-3087 82,-3087 82,-3029 176,-3029 176,-3087\"/>\n",
       "<text text-anchor=\"middle\" x=\"129\" y=\"-3061.8\" font-family=\"Times,serif\" font-size=\"14.00\">FullyConnected</text>\n",
       "<text text-anchor=\"middle\" x=\"129\" y=\"-3046.8\" font-family=\"Times,serif\" font-size=\"14.00\">256</text>\n",
       "</g>\n",
       "<!-- rn_model2_dense3_fwd&#45;&gt;rn_model2_dense2_relu_fwd -->\n",
       "<g id=\"edge35\" class=\"edge\"><title>rn_model2_dense3_fwd&#45;&gt;rn_model2_dense2_relu_fwd</title>\n",
       "<path fill=\"none\" stroke=\"black\" d=\"M129,-3018.58C129,-3005.28 129,-2990.63 129,-2978.3\"/>\n",
       "<polygon fill=\"black\" stroke=\"black\" points=\"129,-3028.89 124.5,-3018.89 129,-3023.89 129,-3018.89 129,-3018.89 129,-3018.89 129,-3023.89 133.5,-3018.89 129,-3028.89 129,-3028.89\"/>\n",
       "<text text-anchor=\"middle\" x=\"153\" y=\"-2999.8\" font-family=\"Times,serif\" font-size=\"14.00\">625x256</text>\n",
       "</g>\n",
       "<!-- rn_model2_dense3_relu_fwd -->\n",
       "<g id=\"node36\" class=\"node\"><title>rn_model2_dense3_relu_fwd</title>\n",
       "<polygon fill=\"#ffffb3\" stroke=\"black\" points=\"176,-3196 82,-3196 82,-3138 176,-3138 176,-3196\"/>\n",
       "<text text-anchor=\"middle\" x=\"129\" y=\"-3170.8\" font-family=\"Times,serif\" font-size=\"14.00\">Activation</text>\n",
       "<text text-anchor=\"middle\" x=\"129\" y=\"-3155.8\" font-family=\"Times,serif\" font-size=\"14.00\">relu</text>\n",
       "</g>\n",
       "<!-- rn_model2_dense3_relu_fwd&#45;&gt;rn_model2_dense3_fwd -->\n",
       "<g id=\"edge36\" class=\"edge\"><title>rn_model2_dense3_relu_fwd&#45;&gt;rn_model2_dense3_fwd</title>\n",
       "<path fill=\"none\" stroke=\"black\" d=\"M129,-3127.58C129,-3114.28 129,-3099.63 129,-3087.3\"/>\n",
       "<polygon fill=\"black\" stroke=\"black\" points=\"129,-3137.89 124.5,-3127.89 129,-3132.89 129,-3127.89 129,-3127.89 129,-3127.89 129,-3132.89 133.5,-3127.89 129,-3137.89 129,-3137.89\"/>\n",
       "<text text-anchor=\"middle\" x=\"153\" y=\"-3108.8\" font-family=\"Times,serif\" font-size=\"14.00\">625x256</text>\n",
       "</g>\n",
       "<!-- rn_model2_sum0 -->\n",
       "<g id=\"node37\" class=\"node\"><title>rn_model2_sum0</title>\n",
       "<polygon fill=\"#fccde5\" stroke=\"black\" points=\"176,-3305 82,-3305 82,-3247 176,-3247 176,-3305\"/>\n",
       "<text text-anchor=\"middle\" x=\"129\" y=\"-3272.3\" font-family=\"Times,serif\" font-size=\"14.00\">rn_model2_sum0</text>\n",
       "</g>\n",
       "<!-- rn_model2_sum0&#45;&gt;rn_model2_dense3_relu_fwd -->\n",
       "<g id=\"edge37\" class=\"edge\"><title>rn_model2_sum0&#45;&gt;rn_model2_dense3_relu_fwd</title>\n",
       "<path fill=\"none\" stroke=\"black\" d=\"M129,-3236.58C129,-3223.28 129,-3208.63 129,-3196.3\"/>\n",
       "<polygon fill=\"black\" stroke=\"black\" points=\"129,-3246.89 124.5,-3236.89 129,-3241.89 129,-3236.89 129,-3236.89 129,-3236.89 129,-3241.89 133.5,-3236.89 129,-3246.89 129,-3246.89\"/>\n",
       "<text text-anchor=\"middle\" x=\"153\" y=\"-3217.8\" font-family=\"Times,serif\" font-size=\"14.00\">625x256</text>\n",
       "</g>\n",
       "<!-- rn_model2_dense4_fwd -->\n",
       "<g id=\"node38\" class=\"node\"><title>rn_model2_dense4_fwd</title>\n",
       "<polygon fill=\"#fb8072\" stroke=\"black\" points=\"176,-3414 82,-3414 82,-3356 176,-3356 176,-3414\"/>\n",
       "<text text-anchor=\"middle\" x=\"129\" y=\"-3388.8\" font-family=\"Times,serif\" font-size=\"14.00\">FullyConnected</text>\n",
       "<text text-anchor=\"middle\" x=\"129\" y=\"-3373.8\" font-family=\"Times,serif\" font-size=\"14.00\">256</text>\n",
       "</g>\n",
       "<!-- rn_model2_dense4_fwd&#45;&gt;rn_model2_sum0 -->\n",
       "<g id=\"edge38\" class=\"edge\"><title>rn_model2_dense4_fwd&#45;&gt;rn_model2_sum0</title>\n",
       "<path fill=\"none\" stroke=\"black\" d=\"M129,-3345.58C129,-3332.28 129,-3317.63 129,-3305.3\"/>\n",
       "<polygon fill=\"black\" stroke=\"black\" points=\"129,-3355.89 124.5,-3345.89 129,-3350.89 129,-3345.89 129,-3345.89 129,-3345.89 129,-3350.89 133.5,-3345.89 129,-3355.89 129,-3355.89\"/>\n",
       "<text text-anchor=\"middle\" x=\"139.5\" y=\"-3326.8\" font-family=\"Times,serif\" font-size=\"14.00\">256</text>\n",
       "</g>\n",
       "<!-- rn_model2_dense4_relu_fwd -->\n",
       "<g id=\"node39\" class=\"node\"><title>rn_model2_dense4_relu_fwd</title>\n",
       "<polygon fill=\"#ffffb3\" stroke=\"black\" points=\"176,-3523 82,-3523 82,-3465 176,-3465 176,-3523\"/>\n",
       "<text text-anchor=\"middle\" x=\"129\" y=\"-3497.8\" font-family=\"Times,serif\" font-size=\"14.00\">Activation</text>\n",
       "<text text-anchor=\"middle\" x=\"129\" y=\"-3482.8\" font-family=\"Times,serif\" font-size=\"14.00\">relu</text>\n",
       "</g>\n",
       "<!-- rn_model2_dense4_relu_fwd&#45;&gt;rn_model2_dense4_fwd -->\n",
       "<g id=\"edge39\" class=\"edge\"><title>rn_model2_dense4_relu_fwd&#45;&gt;rn_model2_dense4_fwd</title>\n",
       "<path fill=\"none\" stroke=\"black\" d=\"M129,-3454.58C129,-3441.28 129,-3426.63 129,-3414.3\"/>\n",
       "<polygon fill=\"black\" stroke=\"black\" points=\"129,-3464.89 124.5,-3454.89 129,-3459.89 129,-3454.89 129,-3454.89 129,-3454.89 129,-3459.89 133.5,-3454.89 129,-3464.89 129,-3464.89\"/>\n",
       "<text text-anchor=\"middle\" x=\"139.5\" y=\"-3435.8\" font-family=\"Times,serif\" font-size=\"14.00\">256</text>\n",
       "</g>\n",
       "<!-- rn_model2_fcoutputmodel0_dense0_fwd -->\n",
       "<g id=\"node40\" class=\"node\"><title>rn_model2_fcoutputmodel0_dense0_fwd</title>\n",
       "<polygon fill=\"#fb8072\" stroke=\"black\" points=\"176,-3632 82,-3632 82,-3574 176,-3574 176,-3632\"/>\n",
       "<text text-anchor=\"middle\" x=\"129\" y=\"-3606.8\" font-family=\"Times,serif\" font-size=\"14.00\">FullyConnected</text>\n",
       "<text text-anchor=\"middle\" x=\"129\" y=\"-3591.8\" font-family=\"Times,serif\" font-size=\"14.00\">256</text>\n",
       "</g>\n",
       "<!-- rn_model2_fcoutputmodel0_dense0_fwd&#45;&gt;rn_model2_dense4_relu_fwd -->\n",
       "<g id=\"edge40\" class=\"edge\"><title>rn_model2_fcoutputmodel0_dense0_fwd&#45;&gt;rn_model2_dense4_relu_fwd</title>\n",
       "<path fill=\"none\" stroke=\"black\" d=\"M129,-3563.58C129,-3550.28 129,-3535.63 129,-3523.3\"/>\n",
       "<polygon fill=\"black\" stroke=\"black\" points=\"129,-3573.89 124.5,-3563.89 129,-3568.89 129,-3563.89 129,-3563.89 129,-3563.89 129,-3568.89 133.5,-3563.89 129,-3573.89 129,-3573.89\"/>\n",
       "<text text-anchor=\"middle\" x=\"139.5\" y=\"-3544.8\" font-family=\"Times,serif\" font-size=\"14.00\">256</text>\n",
       "</g>\n",
       "<!-- rn_model2_fcoutputmodel0_dense0_relu_fwd -->\n",
       "<g id=\"node41\" class=\"node\"><title>rn_model2_fcoutputmodel0_dense0_relu_fwd</title>\n",
       "<polygon fill=\"#ffffb3\" stroke=\"black\" points=\"176,-3741 82,-3741 82,-3683 176,-3683 176,-3741\"/>\n",
       "<text text-anchor=\"middle\" x=\"129\" y=\"-3715.8\" font-family=\"Times,serif\" font-size=\"14.00\">Activation</text>\n",
       "<text text-anchor=\"middle\" x=\"129\" y=\"-3700.8\" font-family=\"Times,serif\" font-size=\"14.00\">relu</text>\n",
       "</g>\n",
       "<!-- rn_model2_fcoutputmodel0_dense0_relu_fwd&#45;&gt;rn_model2_fcoutputmodel0_dense0_fwd -->\n",
       "<g id=\"edge41\" class=\"edge\"><title>rn_model2_fcoutputmodel0_dense0_relu_fwd&#45;&gt;rn_model2_fcoutputmodel0_dense0_fwd</title>\n",
       "<path fill=\"none\" stroke=\"black\" d=\"M129,-3672.58C129,-3659.28 129,-3644.63 129,-3632.3\"/>\n",
       "<polygon fill=\"black\" stroke=\"black\" points=\"129,-3682.89 124.5,-3672.89 129,-3677.89 129,-3672.89 129,-3672.89 129,-3672.89 129,-3677.89 133.5,-3672.89 129,-3682.89 129,-3682.89\"/>\n",
       "<text text-anchor=\"middle\" x=\"139.5\" y=\"-3653.8\" font-family=\"Times,serif\" font-size=\"14.00\">256</text>\n",
       "</g>\n",
       "<!-- rn_model2_fcoutputmodel0_dropout0_fwd -->\n",
       "<g id=\"node42\" class=\"node\"><title>rn_model2_fcoutputmodel0_dropout0_fwd</title>\n",
       "<polygon fill=\"#fccde5\" stroke=\"black\" points=\"176,-3850 82,-3850 82,-3792 176,-3792 176,-3850\"/>\n",
       "<text text-anchor=\"middle\" x=\"129\" y=\"-3817.3\" font-family=\"Times,serif\" font-size=\"14.00\">rn_model2_fcoutputmodel0_dropout0_fwd</text>\n",
       "</g>\n",
       "<!-- rn_model2_fcoutputmodel0_dropout0_fwd&#45;&gt;rn_model2_fcoutputmodel0_dense0_relu_fwd -->\n",
       "<g id=\"edge42\" class=\"edge\"><title>rn_model2_fcoutputmodel0_dropout0_fwd&#45;&gt;rn_model2_fcoutputmodel0_dense0_relu_fwd</title>\n",
       "<path fill=\"none\" stroke=\"black\" d=\"M129,-3781.58C129,-3768.28 129,-3753.63 129,-3741.3\"/>\n",
       "<polygon fill=\"black\" stroke=\"black\" points=\"129,-3791.89 124.5,-3781.89 129,-3786.89 129,-3781.89 129,-3781.89 129,-3781.89 129,-3786.89 133.5,-3781.89 129,-3791.89 129,-3791.89\"/>\n",
       "<text text-anchor=\"middle\" x=\"139.5\" y=\"-3762.8\" font-family=\"Times,serif\" font-size=\"14.00\">256</text>\n",
       "</g>\n",
       "<!-- rn_model2_fcoutputmodel0_dense1_fwd -->\n",
       "<g id=\"node43\" class=\"node\"><title>rn_model2_fcoutputmodel0_dense1_fwd</title>\n",
       "<polygon fill=\"#fb8072\" stroke=\"black\" points=\"176,-3959 82,-3959 82,-3901 176,-3901 176,-3959\"/>\n",
       "<text text-anchor=\"middle\" x=\"129\" y=\"-3933.8\" font-family=\"Times,serif\" font-size=\"14.00\">FullyConnected</text>\n",
       "<text text-anchor=\"middle\" x=\"129\" y=\"-3918.8\" font-family=\"Times,serif\" font-size=\"14.00\">10</text>\n",
       "</g>\n",
       "<!-- rn_model2_fcoutputmodel0_dense1_fwd&#45;&gt;rn_model2_fcoutputmodel0_dropout0_fwd -->\n",
       "<g id=\"edge43\" class=\"edge\"><title>rn_model2_fcoutputmodel0_dense1_fwd&#45;&gt;rn_model2_fcoutputmodel0_dropout0_fwd</title>\n",
       "<path fill=\"none\" stroke=\"black\" d=\"M129,-3890.58C129,-3877.28 129,-3862.63 129,-3850.3\"/>\n",
       "<polygon fill=\"black\" stroke=\"black\" points=\"129,-3900.89 124.5,-3890.89 129,-3895.89 129,-3890.89 129,-3890.89 129,-3890.89 129,-3895.89 133.5,-3890.89 129,-3900.89 129,-3900.89\"/>\n",
       "<text text-anchor=\"middle\" x=\"139.5\" y=\"-3871.8\" font-family=\"Times,serif\" font-size=\"14.00\">256</text>\n",
       "</g>\n",
       "</g>\n",
       "</svg>\n"
      ],
      "text/plain": [
       "<graphviz.dot.Digraph at 0x7f0f305c2518>"
      ]
     },
     "execution_count": 32,
     "metadata": {},
     "output_type": "execute_result"
    }
   ],
   "source": [
    "mx.viz.plot_network(model(mx.sym.var('data'), mx.sym.var('qst'), mx.sym.var('coord_tensor')), shape={'data':(128,3,75,75), 'qst':(128,11), 'coord_tensor': (128, 25, 2)})"
   ]
  },
  {
   "cell_type": "markdown",
   "metadata": {},
   "source": [
    "### Trainer"
   ]
  },
  {
   "cell_type": "code",
   "execution_count": 33,
   "metadata": {
    "ExecuteTime": {
     "end_time": "2018-07-16T04:08:22.323271Z",
     "start_time": "2018-07-16T04:08:22.319317Z"
    }
   },
   "outputs": [],
   "source": [
    "#set optimizer\n",
    "trainer = gluon.Trainer(model.collect_params(),optimizer='adam',optimizer_params={'learning_rate':0.0001})"
   ]
  },
  {
   "cell_type": "markdown",
   "metadata": {},
   "source": [
    "### Loss"
   ]
  },
  {
   "cell_type": "code",
   "execution_count": 34,
   "metadata": {
    "ExecuteTime": {
     "end_time": "2018-07-16T04:08:22.327043Z",
     "start_time": "2018-07-16T04:08:22.324824Z"
    }
   },
   "outputs": [],
   "source": [
    "#define loss function\n",
    "loss = gluon.loss.SoftmaxCrossEntropyLoss()"
   ]
  },
  {
   "cell_type": "markdown",
   "metadata": {},
   "source": [
    "### Helper functions"
   ]
  },
  {
   "cell_type": "code",
   "execution_count": 35,
   "metadata": {
    "ExecuteTime": {
     "end_time": "2018-07-16T04:08:22.331287Z",
     "start_time": "2018-07-16T04:08:22.328358Z"
    }
   },
   "outputs": [],
   "source": [
    "# prepare coord tensor\n",
    "def cvt_coord(i):\n",
    "    return [(i/5-2)/2., (i%5-2)/2.]"
   ]
  },
  {
   "cell_type": "code",
   "execution_count": 36,
   "metadata": {
    "ExecuteTime": {
     "end_time": "2018-07-16T04:08:22.336882Z",
     "start_time": "2018-07-16T04:08:22.332625Z"
    }
   },
   "outputs": [],
   "source": [
    "def cvt_data_axis_nd(data):\n",
    "    img = [e[0] for e in data]\n",
    "    qst = [e[1] for e in data]\n",
    "    ans = [e[2] for e in data]\n",
    "    return (nd.array(img), nd.array(qst), nd.array(ans))"
   ]
  },
  {
   "cell_type": "markdown",
   "metadata": {
    "ExecuteTime": {
     "end_time": "2018-07-16T04:08:22.361207Z",
     "start_time": "2018-07-16T04:08:22.345308Z"
    }
   },
   "source": [
    "### Evaluation metric"
   ]
  },
  {
   "cell_type": "code",
   "execution_count": 37,
   "metadata": {
    "ExecuteTime": {
     "end_time": "2018-07-16T04:08:22.361207Z",
     "start_time": "2018-07-16T04:08:22.345308Z"
    }
   },
   "outputs": [],
   "source": [
    "def evaluate_accuracy(data,  model, ctx):\n",
    "    acc_rel = mx.metric.Accuracy()\n",
    "    acc_norel = mx.metric.Accuracy()\n",
    "    for i, (rel_img, rel_qst, rel_label, norel_img, norel_qst, norel_label) in enumerate(data):\n",
    "\n",
    "        rel_img = rel_img.as_in_context(ctx)\n",
    "        rel_qst = rel_qst.as_in_context(ctx)\n",
    "        rel_label = rel_label.as_in_context(ctx)\n",
    "        \n",
    "        norel_img = norel_img.as_in_context(ctx)\n",
    "        norel_qst = norel_qst.as_in_context(ctx)\n",
    "        norel_label = norel_label.as_in_context(ctx)\n",
    "\n",
    "        output = model(rel_img, rel_qst, coord_tensors[0])        \n",
    "        predictions = nd.argmax(output,axis=1)        \n",
    "        acc_rel.update(preds=predictions, labels=rel_label)\n",
    "\n",
    "        output = model(norel_img, norel_qst, coord_tensors[0])        \n",
    "        predictions = nd.argmax(output,axis=1)        \n",
    "        acc_norel.update(preds=predictions, labels=norel_label)\n",
    "\n",
    "    return acc_rel, acc_norel"
   ]
  },
  {
   "cell_type": "markdown",
   "metadata": {},
   "source": [
    "### Data Loading"
   ]
  },
  {
   "cell_type": "code",
   "execution_count": 21,
   "metadata": {},
   "outputs": [],
   "source": [
    "rel_train_nd = cvt_data_axis_nd(rel_train)\n",
    "rel_test_nd = cvt_data_axis_nd(rel_test)\n",
    "norel_train_nd = cvt_data_axis_nd(norel_train)\n",
    "norel_test_nd = cvt_data_axis_nd(norel_test)"
   ]
  },
  {
   "cell_type": "code",
   "execution_count": 22,
   "metadata": {},
   "outputs": [],
   "source": [
    "batchsize = args['batch_size']*GPU_COUNT if GPU_COUNT > 0 else args['batch_size']"
   ]
  },
  {
   "cell_type": "code",
   "execution_count": 23,
   "metadata": {},
   "outputs": [],
   "source": [
    "train_dataset = ArrayDataset(rel_train_nd[0], rel_train_nd[1], rel_train_nd[2], norel_train_nd[0], norel_train_nd[1], norel_train_nd[2])\n",
    "test_dataset = ArrayDataset(rel_test_nd[0], rel_test_nd[1], rel_test_nd[2], norel_test_nd[0], norel_test_nd[1], norel_test_nd[2])\n",
    "\n",
    "dataloader_train = DataLoader(train_dataset, batch_size=batchsize, shuffle=True, last_batch='discard', num_workers=5)\n",
    "dataloader_test = DataLoader(test_dataset, batch_size=args['batch_size'], shuffle=False, last_batch='discard', num_workers=5)"
   ]
  },
  {
   "cell_type": "code",
   "execution_count": 24,
   "metadata": {},
   "outputs": [],
   "source": [
    "# Prepare coord_tensor\n",
    "coord_tensor = nd.zeros((batchsize, 25, 2))\n",
    "for i in range(25):\n",
    "     coord_tensor[:,i,:] = nd.array(cvt_coord(i))\n",
    "        \n",
    "coord_tensors = gluon.utils.split_and_load(coord_tensor,ctx)"
   ]
  },
  {
   "cell_type": "markdown",
   "metadata": {},
   "source": [
    "## Training loop"
   ]
  },
  {
   "cell_type": "code",
   "execution_count": 38,
   "metadata": {},
   "outputs": [],
   "source": [
    "model.hybridize()"
   ]
  },
  {
   "cell_type": "code",
   "execution_count": null,
   "metadata": {},
   "outputs": [
    {
     "name": "stdout",
     "output_type": "stream",
     "text": [
      "[0], Rel loss: 0.1424, NoRel loss 0.0033, Acc Rel 0.8906, Acc NoRel 0.9844. 23.0805sec\n",
      "[1], Rel loss: 0.1408, NoRel loss 0.0036, Acc Rel 0.8938, Acc NoRel 0.9849. 23.0171sec\n",
      "[2], Rel loss: 0.1344, NoRel loss 0.0049, Acc Rel 0.8990, Acc NoRel 0.9833. 23.0294sec\n",
      "[3], Rel loss: 0.1268, NoRel loss 0.0037, Acc Rel 0.8844, Acc NoRel 0.9875. 22.9431sec\n",
      "[4], Rel loss: 0.1193, NoRel loss 0.0028, Acc Rel 0.8880, Acc NoRel 0.9859. 22.9057sec\n"
     ]
    }
   ],
   "source": [
    "rel_loss = list()\n",
    "norel_loss =  list()\n",
    "rel_acc = list()\n",
    "norel_acc = list()\n",
    "\n",
    "for epoch in range(args['epochs']):\n",
    "    cumulative_rel_loss = 0.0\n",
    "    cumulative_norel_loss = 0.0\n",
    "    tick = time.time()\n",
    "    \n",
    "    for i, (rel_img, rel_qst, rel_label, norel_img, norel_qst, norel_label) in enumerate(dataloader_train):\n",
    "\n",
    "        # Relational data        \n",
    "        rel_imgs = gluon.utils.split_and_load(rel_img, ctx)\n",
    "        rel_qsts = gluon.utils.split_and_load(rel_qst, ctx)\n",
    "        rel_labels = gluon.utils.split_and_load(rel_label, ctx)\n",
    "        \n",
    "        # No-relationtional data       \n",
    "        norel_imgs = gluon.utils.split_and_load(norel_img, ctx)\n",
    "        norel_qsts = gluon.utils.split_and_load(norel_qst, ctx)\n",
    "        norel_labels = gluon.utils.split_and_load(norel_label, ctx)        \n",
    "\n",
    "        with autograd.record():\n",
    "            rel_losses = [loss(model(X,Y, coord),Z) for X, Y, coord, Z in zip(rel_imgs, rel_qsts, coord_tensors, rel_labels )]\n",
    "        for l in rel_losses:\n",
    "            l.backward()\n",
    "            \n",
    "        trainer.step(rel_img.shape[0])\n",
    "        \n",
    "        for l in rel_losses:\n",
    "            cumulative_rel_loss += l.mean().asscalar()\n",
    "        \n",
    "        with autograd.record():\n",
    "            norel_losses = [loss(model(X,Y, coord),Z) for X, Y, coord, Z in zip(norel_imgs, norel_qsts, coord_tensors, norel_labels)]\n",
    "        for l in norel_losses:\n",
    "            l.backward()\n",
    "            \n",
    "        trainer.step(norel_img.shape[0])\n",
    "        \n",
    "        for l in norel_losses:\n",
    "                cumulative_norel_loss += l.mean().asscalar()\n",
    "        \n",
    "    mx.nd.waitall()\n",
    "    acc_rel, acc_norel = evaluate_accuracy(dataloader_test, model, mx.gpu(0))\n",
    "    print(\"[{}], Rel loss: {:.4f}, NoRel loss {:.4f}, Acc Rel {:.4f}, Acc NoRel {:.4f}. {:.4f}sec\".format(\n",
    "        epoch, cumulative_rel_loss/len(dataloader_train), cumulative_norel_loss/len(dataloader_train), \n",
    "        acc_rel.get()[1], acc_norel.get()[1], time.time()-tick))\n",
    "    \n",
    "    rel_loss.append(cumulative_rel_loss/len(dataloader_train))\n",
    "    norel_loss.append(cumulative_norel_loss/len(dataloader_train))\n",
    "    rel_acc.append(acc_rel.get()[1])\n",
    "    norel_acc.append(acc_norel.get()[1])"
   ]
  },
  {
   "cell_type": "markdown",
   "metadata": {},
   "source": [
    "## Metrics"
   ]
  },
  {
   "cell_type": "code",
   "execution_count": 46,
   "metadata": {
    "ExecuteTime": {
     "end_time": "2018-07-16T23:57:16.191883Z",
     "start_time": "2018-07-16T23:57:16.189005Z"
    }
   },
   "outputs": [],
   "source": [
    "perf_metric = collections.OrderedDict()"
   ]
  },
  {
   "cell_type": "code",
   "execution_count": 47,
   "metadata": {
    "ExecuteTime": {
     "end_time": "2018-07-16T23:57:17.412193Z",
     "start_time": "2018-07-16T23:57:17.407821Z"
    }
   },
   "outputs": [],
   "source": [
    "perf_metric['epoch'] = np.arange(args['epochs'])+1\n",
    "perf_metric['rel_loss'] = np.array(rel_loss)\n",
    "perf_metric['no_rel_loss'] =np.array(norel_loss)\n",
    "perf_metric['rel_acc'] = np.array(rel_acc)\n",
    "perf_metric['no_rel_acc'] = np.array(norel_acc)"
   ]
  },
  {
   "cell_type": "code",
   "execution_count": 48,
   "metadata": {
    "ExecuteTime": {
     "end_time": "2018-07-16T23:57:17.792690Z",
     "start_time": "2018-07-16T23:57:17.789423Z"
    }
   },
   "outputs": [],
   "source": [
    "perf_metric = pd.DataFrame(perf_metric)"
   ]
  },
  {
   "cell_type": "code",
   "execution_count": 49,
   "metadata": {
    "ExecuteTime": {
     "end_time": "2018-07-16T23:57:20.337213Z",
     "start_time": "2018-07-16T23:57:20.089132Z"
    }
   },
   "outputs": [
    {
     "data": {
      "image/png": "[encoded data removed]",
      "text/plain": [
       "<Figure size 1080x720 with 1 Axes>"
      ]
     },
     "metadata": {},
     "output_type": "display_data"
    }
   ],
   "source": [
    "plt.rcParams.update({'font.size': 12})\n",
    "plt.style.use('seaborn-darkgrid')\n",
    "palette = plt.get_cmap('Set1')\n",
    "plt.figure(figsize=(15,10))\n",
    "plt.xlabel(\"Epoch\")\n",
    "plt.ylabel(\"loss\")\n",
    "\n",
    "plt.plot(np.arange(args['epochs'])+1,  np.array(rel_acc),label=\"rel_acc\")\n",
    "plt.plot(np.arange(args['epochs'])+1, np.array(norel_acc),label=\"norel_acc\")\n",
    "plt.legend(bbox_to_anchor=(1, 1), loc=2,)\n",
    "plt.show()"
   ]
  },
  {
   "cell_type": "code",
   "execution_count": 50,
   "metadata": {
    "ExecuteTime": {
     "end_time": "2018-07-16T23:57:23.876446Z",
     "start_time": "2018-07-16T23:57:23.640015Z"
    }
   },
   "outputs": [
    {
     "data": {
      "image/png": "[encoded data removed]",
      "text/plain": [
       "<Figure size 1080x720 with 1 Axes>"
      ]
     },
     "metadata": {},
     "output_type": "display_data"
    }
   ],
   "source": [
    "plt.rcParams.update({'font.size': 12})\n",
    "plt.style.use('seaborn-darkgrid')\n",
    "palette = plt.get_cmap('Set1')\n",
    "plt.figure(figsize=(15,10))\n",
    "plt.xlabel(\"Epoch\")\n",
    "plt.ylabel(\"loss\")\n",
    "\n",
    "plt.plot(np.arange(args['epochs'])+1,  np.array(rel_loss),label=\"rel_acc\")\n",
    "plt.plot(np.arange(args['epochs'])+1, np.array(norel_loss),label=\"norel_loss\")\n",
    "plt.legend(bbox_to_anchor=(1, 1), loc=2,)\n",
    "plt.show()"
   ]
  },
  {
   "cell_type": "code",
   "execution_count": null,
   "metadata": {},
   "outputs": [],
   "source": []
  }
 ],
 "metadata": {
  "kernelspec": {
   "display_name": "Python 3",
   "language": "python",
   "name": "python3"
  },
  "language_info": {
   "codemirror_mode": {
    "name": "ipython",
    "version": 3
   },
   "file_extension": ".py",
   "mimetype": "text/x-python",
   "name": "python",
   "nbconvert_exporter": "python",
   "pygments_lexer": "ipython3",
   "version": "3.6.4"
  }
 },
 "nbformat": 4,
 "nbformat_minor": 2
}
